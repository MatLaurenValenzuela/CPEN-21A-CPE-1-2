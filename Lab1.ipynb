{
  "nbformat": 4,
  "nbformat_minor": 0,
  "metadata": {
    "colab": {
      "name": "Lab1.ipynb",
      "provenance": [],
      "authorship_tag": "ABX9TyO5XYwFKOALRSCQgPmGvQ2h",
      "include_colab_link": true
    },
    "kernelspec": {
      "name": "python3",
      "display_name": "Python 3"
    },
    "language_info": {
      "name": "python"
    }
  },
  "cells": [
    {
      "cell_type": "markdown",
      "metadata": {
        "id": "view-in-github",
        "colab_type": "text"
      },
      "source": [
        "<a href=\"https://colab.research.google.com/github/MatLaurenValenzuela/CPEN-21A-CPE-1-2/blob/main/Lab1.ipynb\" target=\"_parent\"><img src=\"https://colab.research.google.com/assets/colab-badge.svg\" alt=\"Open In Colab\"/></a>"
      ]
    },
    {
      "cell_type": "markdown",
      "metadata": {
        "id": "3zyQge5G7iUT"
      },
      "source": [
        "###### **Laboratory 1**"
      ]
    },
    {
      "cell_type": "code",
      "metadata": {
        "colab": {
          "base_uri": "https://localhost:8080/"
        },
        "id": "kZx8PNwC4P3_",
        "outputId": "09e73c01-1658-4183-ef14-ee637dc0e640"
      },
      "source": [
        "print(\"Welcome to Python Programming\")"
      ],
      "execution_count": 1,
      "outputs": [
        {
          "output_type": "stream",
          "name": "stdout",
          "text": [
            "Welcome to Python Programming\n"
          ]
        }
      ]
    },
    {
      "cell_type": "code",
      "metadata": {
        "colab": {
          "base_uri": "https://localhost:8080/"
        },
        "id": "E4TVkRM74mBy",
        "outputId": "11a32715-3af1-460c-9bcb-0ed4db18ea58"
      },
      "source": [
        "name= \"Mat Lauren Keiser R. Valenzuela\"\n",
        "address= \"167 Silahis Street, San Antonio, Cavite City\"\n",
        "age= \"18\"\n",
        "\n",
        "print(\" Hello, my name is \" + name)\n",
        "print(\" I am currently residing to \" + address)\n",
        "print(\" Currently, I am \" + age + \" years old.\")"
      ],
      "execution_count": 5,
      "outputs": [
        {
          "output_type": "stream",
          "name": "stdout",
          "text": [
            " Hello, my name is Mat Lauren Keiser R. Valenzuela\n",
            " I am currently residing to 167 Silahis Street, San Antonio, Cavite City\n",
            " Currently, I am 18 years old.\n"
          ]
        }
      ]
    }
  ]
}