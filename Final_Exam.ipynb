{
  "nbformat": 4,
  "nbformat_minor": 0,
  "metadata": {
    "colab": {
      "name": "Final Exam.ipynb",
      "provenance": [],
      "authorship_tag": "ABX9TyP0wzjLTFD8zrd4CsZBqCkz",
      "include_colab_link": true
    },
    "kernelspec": {
      "name": "python3",
      "display_name": "Python 3"
    },
    "language_info": {
      "name": "python"
    }
  },
  "cells": [
    {
      "cell_type": "markdown",
      "metadata": {
        "id": "view-in-github",
        "colab_type": "text"
      },
      "source": [
        "<a href=\"https://colab.research.google.com/github/MatLaurenValenzuela/CPEN-21A-CPE-1-2/blob/main/Final_Exam.ipynb\" target=\"_parent\"><img src=\"https://colab.research.google.com/assets/colab-badge.svg\" alt=\"Open In Colab\"/></a>"
      ]
    },
    {
      "cell_type": "markdown",
      "source": [
        "##Final Exam"
      ],
      "metadata": {
        "id": "iCJqIC1Zp68a"
      }
    },
    {
      "cell_type": "markdown",
      "source": [
        "Problem Statement 1"
      ],
      "metadata": {
        "id": "lFSnwk0MqBJf"
      }
    },
    {
      "cell_type": "code",
      "source": [
        "i = 0\n",
        "\n",
        "for x in range(-6,4):\n",
        "  print(x)\n",
        "  i= i+x\n",
        "print(\"\\nThe sum of 10 values that are less than 5 is:\", i)\n",
        "\n"
      ],
      "metadata": {
        "colab": {
          "base_uri": "https://localhost:8080/"
        },
        "id": "MwcCZcruqGDG",
        "outputId": "888d5d8e-dbf8-4e15-897e-d63e525e1bde"
      },
      "execution_count": 54,
      "outputs": [
        {
          "output_type": "stream",
          "name": "stdout",
          "text": [
            "-6\n",
            "-5\n",
            "-4\n",
            "-3\n",
            "-2\n",
            "-1\n",
            "0\n",
            "1\n",
            "2\n",
            "3\n",
            "\n",
            "The sum of 10 values that are less than 5 is: -15\n"
          ]
        }
      ]
    },
    {
      "cell_type": "markdown",
      "source": [
        "Problem Statement 2"
      ],
      "metadata": {
        "id": "210ia6THAByG"
      }
    },
    {
      "cell_type": "code",
      "source": [
        "x=1\n",
        "\n",
        "while x<=5:\n",
        "  num=int(input(\"Enter a value:   \"))\n",
        "\n",
        "  if x==1:\n",
        "    a = num\n",
        "  if x==5:\n",
        "    b = num\n",
        "  x+=1\n",
        "print(\"\\n The sum of First and Last Number is:\",a + b)"
      ],
      "metadata": {
        "id": "16d3XGI6AEPH",
        "colab": {
          "base_uri": "https://localhost:8080/"
        },
        "outputId": "101ef846-e5e2-4d77-c937-6b940cb895ba"
      },
      "execution_count": 40,
      "outputs": [
        {
          "output_type": "stream",
          "name": "stdout",
          "text": [
            "Enter a value:   1\n",
            "Enter a value:   2\n",
            "Enter a value:   3\n",
            "Enter a value:   4\n",
            "Enter a value:   5\n",
            "\n",
            " The sum of First and Last Number is: 6\n"
          ]
        }
      ]
    },
    {
      "cell_type": "markdown",
      "source": [
        "Problem Statement 3"
      ],
      "metadata": {
        "id": "XNjGzSWRZKyY"
      }
    },
    {
      "cell_type": "code",
      "source": [
        "grade = float(input(\"Enter your grade: \" ))\n",
        "\n",
        "if grade>=90 and grade<=100:\n",
        "  print(\"Your character grade is A\")\n",
        "else:\n",
        "    if grade>=80 and grade<90:\n",
        "      print(\"Your character grade is B\")\n",
        "    else:\n",
        "      if grade>=70 and grade<80:\n",
        "        print(\"Your character grade is C\")\n",
        "      else:\n",
        "        if grade>=60 and grade<70:\n",
        "          print(\"Your character grade is D\")\n",
        "        else:\n",
        "          if grade<60 and grade>=0:\n",
        "            print(\"Your character grade is F\")\n",
        "          else:\n",
        "            print(\"Error\")\n"
      ],
      "metadata": {
        "colab": {
          "base_uri": "https://localhost:8080/"
        },
        "id": "_8fIWXHtZYRB",
        "outputId": "65a3dd9d-2fbe-4b12-ba48-020d1aa79673"
      },
      "execution_count": 94,
      "outputs": [
        {
          "output_type": "stream",
          "name": "stdout",
          "text": [
            "Enter your grade: 95.75\n",
            "Your character grade is A\n"
          ]
        }
      ]
    }
  ]
}