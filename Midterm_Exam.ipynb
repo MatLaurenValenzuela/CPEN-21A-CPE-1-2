{
  "nbformat": 4,
  "nbformat_minor": 0,
  "metadata": {
    "colab": {
      "name": "Midterm Exam.ipynb",
      "provenance": [],
      "authorship_tag": "ABX9TyPei/cUwvakYZDR8urU0FMw",
      "include_colab_link": true
    },
    "kernelspec": {
      "name": "python3",
      "display_name": "Python 3"
    },
    "language_info": {
      "name": "python"
    }
  },
  "cells": [
    {
      "cell_type": "markdown",
      "metadata": {
        "id": "view-in-github",
        "colab_type": "text"
      },
      "source": [
        "<a href=\"https://colab.research.google.com/github/MatLaurenValenzuela/CPEN-21A-CPE-1-2/blob/main/Midterm_Exam.ipynb\" target=\"_parent\"><img src=\"https://colab.research.google.com/assets/colab-badge.svg\" alt=\"Open In Colab\"/></a>"
      ]
    },
    {
      "cell_type": "markdown",
      "metadata": {
        "id": "cYTRNdOLBjkL"
      },
      "source": [
        "# Midterm Exam"
      ]
    },
    {
      "cell_type": "markdown",
      "metadata": {
        "id": "iSs_qTBoNupa"
      },
      "source": [
        "#### Problem Statement 1"
      ]
    },
    {
      "cell_type": "code",
      "metadata": {
        "colab": {
          "base_uri": "https://localhost:8080/"
        },
        "id": "ssg6pYUoBnJI",
        "outputId": "69940357-113d-4ba1-fb23-a22b6265f8bf"
      },
      "source": [
        "name= \"Mat Lauren Keiser R. Valenzuela\"\n",
        "studentnumber= \"202101926\"\n",
        "age= \"19\"\n",
        "birthday= \"November 5, 2002\"\n",
        "address= \"167 Silahis Street, San Antonio, Cavite City\"\n",
        "course= \"Bachelor of Science in Computer Engineering\"\n",
        "GWA= \"93\"\n",
        "\n",
        "print(\"Hello, my name is \"  + name)\n",
        "print(\"My university student number is \" + studentnumber)\n",
        "print(\"I am now \" + age +\" years old\")\n",
        "print(\"I was born in \" + birthday )\n",
        "print(\"I am current residing at \" + address)\n",
        "print(\"I am now currentlly taking the course \" + course)\n",
        "print(\"My GWA last semester is \" + GWA)"
      ],
      "execution_count": 50,
      "outputs": [
        {
          "output_type": "stream",
          "name": "stdout",
          "text": [
            "Hello, my name is Mat Lauren Keiser R. Valenzuela\n",
            "My university student number is 202101926\n",
            "I am now 19 years old\n",
            "I was born in November 5, 2002\n",
            "I am current residing at 167 Silahis Street, San Antonio, Cavite City\n",
            "I am now currentlly taking the course Bachelor of Science in Computer Engineering\n",
            "My GWA last semester is 93\n"
          ]
        }
      ]
    },
    {
      "cell_type": "markdown",
      "metadata": {
        "id": "xbH5m4tJN6Gz"
      },
      "source": [
        "#### Problem Statement 2"
      ]
    },
    {
      "cell_type": "code",
      "metadata": {
        "colab": {
          "base_uri": "https://localhost:8080/"
        },
        "id": "8OyfmMk_F196",
        "outputId": "e704ff82-f21e-4754-80bb-4d9726344ac4"
      },
      "source": [
        "n=4\n",
        "answ= \"Y\"\n",
        "\n",
        "print(bool(2<n) and (n<6)) #condition a\n",
        "print(bool(2<n) or (n==6)) #condition b\n",
        "print(bool(not (2<n) or (n==6))) #condition c\n",
        "print(bool(not (n<6))) #condition d\n",
        "print(bool(answ==\"Y\") or (answ==\"y\")) #condition e\n",
        "print(bool(answ==\"Y\") and (answ==\"y\")) #condition f\n",
        "print(bool(not(answ==\"y\"))) #condition g\n",
        "print(bool((2<n) and (n==5+1) or (answ==\"No\"))) #condition h\n",
        "print(bool((n==2) and (n==7) or (answ==\"Y\"))) #condition i\n",
        "print(bool(n==2) and ((n==7) or (answ==\"Y\"))) #condition j\n"
      ],
      "execution_count": 51,
      "outputs": [
        {
          "output_type": "stream",
          "name": "stdout",
          "text": [
            "True\n",
            "True\n",
            "False\n",
            "False\n",
            "True\n",
            "False\n",
            "True\n",
            "False\n",
            "True\n",
            "False\n"
          ]
        }
      ]
    },
    {
      "cell_type": "markdown",
      "metadata": {
        "id": "FIqWrCzSN_XG"
      },
      "source": [
        "#### Problem Statement 3"
      ]
    },
    {
      "cell_type": "code",
      "metadata": {
        "colab": {
          "base_uri": "https://localhost:8080/"
        },
        "id": "ADlcfafKLlA_",
        "outputId": "523808d0-c6c7-4987-d084-769251fc00c7"
      },
      "source": [
        "x=2\n",
        "y=-3\n",
        "w=7\n",
        "z=-10\n",
        "\n",
        "print(x/y) #a\n",
        "print(w/y/x) #b\n",
        "print(z/y%x) #c\n",
        "print(x%-y*w) #d\n",
        "print(x%y) #e\n",
        "print(z%w-y/x*5+5) #f\n",
        "print(9-x%(2+y)) #g\n",
        "print(z//w) #h\n",
        "print((2+y)**2) #i\n",
        "print(w/x*2) #j\n"
      ],
      "execution_count": 49,
      "outputs": [
        {
          "output_type": "stream",
          "name": "stdout",
          "text": [
            "-0.6666666666666666\n",
            "-1.1666666666666667\n",
            "1.3333333333333335\n",
            "14\n",
            "-1\n",
            "16.5\n",
            "9\n",
            "-2\n",
            "1\n",
            "7.0\n"
          ]
        }
      ]
    }
  ]
}