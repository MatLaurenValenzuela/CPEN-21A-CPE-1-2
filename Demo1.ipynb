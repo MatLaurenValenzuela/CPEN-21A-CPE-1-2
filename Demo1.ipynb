{
  "nbformat": 4,
  "nbformat_minor": 0,
  "metadata": {
    "colab": {
      "name": "Demo1.ipynb",
      "provenance": [],
      "authorship_tag": "ABX9TyPr08VBnGdgXp66fTcSPjUP",
      "include_colab_link": true
    },
    "kernelspec": {
      "name": "python3",
      "display_name": "Python 3"
    },
    "language_info": {
      "name": "python"
    }
  },
  "cells": [
    {
      "cell_type": "markdown",
      "metadata": {
        "id": "view-in-github",
        "colab_type": "text"
      },
      "source": [
        "<a href=\"https://colab.research.google.com/github/MatLaurenValenzuela/CPEN-21A-CPE-1-2/blob/main/Demo1.ipynb\" target=\"_parent\"><img src=\"https://colab.research.google.com/assets/colab-badge.svg\" alt=\"Open In Colab\"/></a>"
      ]
    },
    {
      "cell_type": "markdown",
      "metadata": {
        "id": "J_CReKrsEwcG"
      },
      "source": [
        ""
      ]
    },
    {
      "cell_type": "markdown",
      "metadata": {
        "id": "BGipjN57GRdr"
      },
      "source": [
        "## Intro To Python"
      ]
    },
    {
      "cell_type": "markdown",
      "metadata": {
        "id": "zQOVBeK5EzuM"
      },
      "source": [
        ""
      ]
    },
    {
      "cell_type": "code",
      "metadata": {
        "colab": {
          "base_uri": "https://localhost:8080/"
        },
        "id": "8t6eoNZmHBQ3",
        "outputId": "efa0622d-0170-4b1f-dbd7-3c34e75635a3"
      },
      "source": [
        "if 5>2:\n",
        "  print(\"five is greater than two!\")"
      ],
      "execution_count": 8,
      "outputs": [
        {
          "output_type": "stream",
          "name": "stdout",
          "text": [
            "five is greater than two!\n"
          ]
        }
      ]
    },
    {
      "cell_type": "code",
      "metadata": {
        "colab": {
          "base_uri": "https://localhost:8080/"
        },
        "id": "oH2iB2vTHzf3",
        "outputId": "3aa2fff9-1859-4060-c9f0-25ed8fdaa377"
      },
      "source": [
        "x=1\n",
        "x, y= 1, 2\n",
        "x, y, z= 1, 2, 3 \n",
        "print(x)\n",
        "print(y)\n",
        "print(z)"
      ],
      "execution_count": 11,
      "outputs": [
        {
          "output_type": "stream",
          "name": "stdout",
          "text": [
            "1\n",
            "2\n",
            "3\n"
          ]
        }
      ]
    },
    {
      "cell_type": "code",
      "metadata": {
        "colab": {
          "base_uri": "https://localhost:8080/"
        },
        "id": "5JQL8iXfK1KM",
        "outputId": "668d5e00-c3bb-449b-da83-1f73176340f8"
      },
      "source": [
        "b = int(4)\n",
        "b\n",
        "c = float(4)\n",
        "c"
      ],
      "execution_count": 16,
      "outputs": [
        {
          "output_type": "execute_result",
          "data": {
            "text/plain": [
              "4.0"
            ]
          },
          "metadata": {},
          "execution_count": 16
        }
      ]
    },
    {
      "cell_type": "code",
      "metadata": {
        "colab": {
          "base_uri": "https://localhost:8080/"
        },
        "id": "_4S3AQGeJmvq",
        "outputId": "6ffb35bd-237c-465d-89f6-6376c07113b7"
      },
      "source": [
        "x = 5\n",
        "y = \"Hello\"\n",
        "print(type(x))\n",
        "print(type(y))"
      ],
      "execution_count": 12,
      "outputs": [
        {
          "output_type": "stream",
          "name": "stdout",
          "text": [
            "<class 'int'>\n",
            "<class 'str'>\n"
          ]
        }
      ]
    },
    {
      "cell_type": "code",
      "metadata": {
        "colab": {
          "base_uri": "https://localhost:8080/"
        },
        "id": "nVpjn2dZKV0F",
        "outputId": "fc18292a-80f9-44ed-d497-9700915f9ae4"
      },
      "source": [
        "y = 'John'\n",
        "z = \"John\"\n",
        "print(y)\n",
        "print(z)"
      ],
      "execution_count": 19,
      "outputs": [
        {
          "output_type": "stream",
          "name": "stdout",
          "text": [
            "John\n",
            "John\n"
          ]
        }
      ]
    },
    {
      "cell_type": "code",
      "metadata": {
        "colab": {
          "base_uri": "https://localhost:8080/"
        },
        "id": "f4Et_vznMDzM",
        "outputId": "2c3b7a2c-1151-4ad2-c18b-7d524d71848c"
      },
      "source": [
        "a = 7\n",
        "A = 10\n",
        "print(a)\n",
        "print(A)"
      ],
      "execution_count": 20,
      "outputs": [
        {
          "output_type": "stream",
          "name": "stdout",
          "text": [
            "7\n",
            "10\n"
          ]
        }
      ]
    },
    {
      "cell_type": "code",
      "metadata": {
        "colab": {
          "base_uri": "https://localhost:8080/"
        },
        "id": "JX0x3bbxMYTV",
        "outputId": "b772eb7e-db88-4d2b-d985-67be79b6187f"
      },
      "source": [
        "x,y,z = 6,7,8\n",
        "print(x)\n",
        "print(y)\n",
        "print(z)"
      ],
      "execution_count": 21,
      "outputs": [
        {
          "output_type": "stream",
          "name": "stdout",
          "text": [
            "6\n",
            "7\n",
            "8\n"
          ]
        }
      ]
    },
    {
      "cell_type": "code",
      "metadata": {
        "colab": {
          "base_uri": "https://localhost:8080/"
        },
        "id": "QnUHC4gzM1ui",
        "outputId": "cc8a70f3-d3cd-4002-d225-d4f254d0842d"
      },
      "source": [
        "x=y=z=\"seven\"\n",
        "print(x)\n",
        "print(y)\n",
        "print(z)"
      ],
      "execution_count": 22,
      "outputs": [
        {
          "output_type": "stream",
          "name": "stdout",
          "text": [
            "seven\n",
            "seven\n",
            "seven\n"
          ]
        }
      ]
    },
    {
      "cell_type": "code",
      "metadata": {
        "colab": {
          "base_uri": "https://localhost:8080/"
        },
        "id": "5qqP9SA4NDzd",
        "outputId": "f49971e0-2e10-4973-c884-ea16d02d73f0"
      },
      "source": [
        "x =\"enjoying\"\n",
        "print(\"Python Programming is \" + x )"
      ],
      "execution_count": 28,
      "outputs": [
        {
          "output_type": "stream",
          "name": "stdout",
          "text": [
            "Python Programming is enjoying\n"
          ]
        }
      ]
    },
    {
      "cell_type": "code",
      "metadata": {
        "colab": {
          "base_uri": "https://localhost:8080/"
        },
        "id": "AGJisODDN2Di",
        "outputId": "61c83b9d-b7e5-499a-a9aa-4efc3ca95199"
      },
      "source": [
        "x=34\n",
        "y=35\n",
        "z=x+y\n",
        "print(z)"
      ],
      "execution_count": 29,
      "outputs": [
        {
          "output_type": "stream",
          "name": "stdout",
          "text": [
            "69\n"
          ]
        }
      ]
    },
    {
      "cell_type": "code",
      "metadata": {
        "colab": {
          "base_uri": "https://localhost:8080/"
        },
        "id": "KE3b02euP09V",
        "outputId": "1350badb-c3fd-4293-8da7-c0ac0c516a9f"
      },
      "source": [
        "x+=7\n",
        "print(x)"
      ],
      "execution_count": 38,
      "outputs": [
        {
          "output_type": "stream",
          "name": "stdout",
          "text": [
            "90\n"
          ]
        }
      ]
    },
    {
      "cell_type": "code",
      "metadata": {
        "colab": {
          "base_uri": "https://localhost:8080/"
        },
        "id": "cIp8xydJO9Tn",
        "outputId": "04184019-4c6a-46be-975e-54eab9435457"
      },
      "source": [
        "x!=x"
      ],
      "execution_count": 30,
      "outputs": [
        {
          "output_type": "execute_result",
          "data": {
            "text/plain": [
              "False"
            ]
          },
          "metadata": {},
          "execution_count": 30
        }
      ]
    },
    {
      "cell_type": "code",
      "metadata": {
        "colab": {
          "base_uri": "https://localhost:8080/"
        },
        "id": "YkkWIZNoPtQN",
        "outputId": "104f7646-0dec-46e1-d28d-f24db138d579"
      },
      "source": [
        "x = 5\n",
        "y = 4\n",
        "z = 3\n",
        "x>y and y>z"
      ],
      "execution_count": 40,
      "outputs": [
        {
          "output_type": "execute_result",
          "data": {
            "text/plain": [
              "True"
            ]
          },
          "metadata": {},
          "execution_count": 40
        }
      ]
    },
    {
      "cell_type": "code",
      "metadata": {
        "colab": {
          "base_uri": "https://localhost:8080/"
        },
        "id": "iv7C4z9qRTJN",
        "outputId": "c6591ecb-af38-4a9e-acb1-7659b3117683"
      },
      "source": [
        "x = 5\n",
        "y = 4 \n",
        "z = 3\n",
        "x<y or y>z"
      ],
      "execution_count": 41,
      "outputs": [
        {
          "output_type": "execute_result",
          "data": {
            "text/plain": [
              "True"
            ]
          },
          "metadata": {},
          "execution_count": 41
        }
      ]
    },
    {
      "cell_type": "code",
      "metadata": {
        "colab": {
          "base_uri": "https://localhost:8080/"
        },
        "id": "BLPHuWkmSA5r",
        "outputId": "1c52d541-18f4-4b1b-bae7-af3771e47113"
      },
      "source": [
        "x = 6\n",
        "y = 6\n",
        "x is y"
      ],
      "execution_count": 43,
      "outputs": [
        {
          "output_type": "execute_result",
          "data": {
            "text/plain": [
              "True"
            ]
          },
          "metadata": {},
          "execution_count": 43
        }
      ]
    },
    {
      "cell_type": "code",
      "metadata": {
        "colab": {
          "base_uri": "https://localhost:8080/"
        },
        "id": "0UC7DVE-SQfn",
        "outputId": "a3241edc-f720-4350-96ca-64cdb3708660"
      },
      "source": [
        "x = 7\n",
        "y = 8\n",
        "x is not y"
      ],
      "execution_count": 44,
      "outputs": [
        {
          "output_type": "execute_result",
          "data": {
            "text/plain": [
              "True"
            ]
          },
          "metadata": {},
          "execution_count": 44
        }
      ]
    }
  ]
}